{
 "cells": [
  {
   "cell_type": "markdown",
   "id": "a41f3622",
   "metadata": {},
   "source": [
    "# Ejercicios de probabilidad"
   ]
  },
  {
   "cell_type": "markdown",
   "id": "a6bdbd89",
   "metadata": {},
   "source": [
    "## Ejercicio 1 \n",
    "\n",
    "Dos dados se lanzan una vez y se observa el total obtenido. Usa una simulación para encontrar la probabilidad estimada de que la puntuación sea mayor a 7 o un número par. Una simulación es una repetición del mismo experimento multiples veces para observar su comportamiento:\n",
    "\n",
    "- Ejecuta el experimento 1000 veces (lanza 2 dados 1000 veces, y suma el número de ambos dados).\n",
    "- Lleva ua cuenta de los números y las veces que la suma fue mayor a 7 o un número par.\n",
    "- Divide el número del paso 2 entre el número de iteraciones(1000)."
   ]
  },
  {
   "cell_type": "code",
   "execution_count": 1,
   "id": "8939d892",
   "metadata": {},
   "outputs": [
    {
     "data": {
      "text/plain": [
       "0.644"
      ]
     },
     "execution_count": 1,
     "metadata": {},
     "output_type": "execute_result"
    }
   ],
   "source": [
    "# Lanzar un dado dos veces 1.000 veces y calcular la probabilidad de que salga un número mayor a 7 o que la suma sea un número par.\n",
    "# Experimento: Lanzar un dado\n",
    "# Simulación: Repetir 1.000 veces el experimento\n",
    "# Espacio muestral: {1, 2, 3, 4, 5, 6}\n",
    "# Evento: {1,1} {2,2} {3,3} {4,4} {5,5} {6,6} {1,3} {3,1} {1,5} {5,1} {2,4} {4,2} {2,6} {6,2} {3,5} {5,3} {4,5} {5,4} {6,5} {5,6} {6,3} {3,6} {6,4} {4,6}\n",
    "\n",
    "import random\n",
    "\n",
    "def lanzar_dado():\n",
    "  return random.randint(1, 6)\n",
    "\n",
    "def suma_num_par(num):\n",
    "  return num % 2 == 0\n",
    "\n",
    "def suma_num_mayor_siete(num):\n",
    "  return num > 7\n",
    "\n",
    "sims = 1000\n",
    "casos_favorables = 0\n",
    "\n",
    "for _ in range(sims):\n",
    "  num1 = lanzar_dado()\n",
    "  num2 = lanzar_dado()\n",
    "  suma = num1 + num2\n",
    "  casos_favorables += suma_num_par(suma) or suma_num_mayor_siete(suma)\n",
    "\n",
    "\n",
    "probabilidad = casos_favorables / sims\n",
    "probabilidad"
   ]
  },
  {
   "cell_type": "markdown",
   "id": "55732bca",
   "metadata": {},
   "source": [
    "## Ejercicio 2\n",
    "\n",
    "Una caja contiene 10 bolas blancas, 20 bolas rojas y 30 bolas verdes. Si tomamos 5 bolas de la caja reemplazándolas (tomando una bola, anotando el color y luego regresandola a la caja). Queremos saber la probabilidad de:\n",
    "\n",
    "1. Tomar 3 blancas y 2 rojas.\n",
    "2. Toas todas del mismo color.\n",
    "\n",
    "Ejecuta el experimento 1000 veces y calcula las probabilidades que mencionadas."
   ]
  },
  {
   "cell_type": "code",
   "execution_count": 27,
   "id": "23244d20",
   "metadata": {},
   "outputs": [
    {
     "name": "stdout",
     "output_type": "stream",
     "text": [
      "{0: 'White', 1: 'White', 2: 'White', 3: 'White', 4: 'White', 5: 'White', 6: 'White', 7: 'White', 8: 'White', 9: 'White', 10: 'Red', 11: 'Red', 12: 'Red', 13: 'Red', 14: 'Red', 15: 'Red', 16: 'Red', 17: 'Red', 18: 'Red', 19: 'Red', 20: 'Red', 21: 'Red', 22: 'Red', 23: 'Red', 24: 'Red', 25: 'Red', 26: 'Red', 27: 'Red', 28: 'Red', 29: 'Red', 30: 'Green', 31: 'Green', 32: 'Green', 33: 'Green', 34: 'Green', 35: 'Green', 36: 'Green', 37: 'Green', 38: 'Green', 39: 'Green', 40: 'Green', 41: 'Green', 42: 'Green', 43: 'Green', 44: 'Green', 45: 'Green', 46: 'Green', 47: 'Green', 48: 'Green', 49: 'Green', 50: 'Green', 51: 'Green', 52: 'Green', 53: 'Green', 54: 'Green', 55: 'Green', 56: 'Green', 57: 'Green', 58: 'Green', 59: 'Green'}\n",
      "0.006\n",
      "0.038\n"
     ]
    }
   ],
   "source": [
    "ball_box = {}\n",
    "\n",
    "# Crea la cajas con las bolas\n",
    "for i in range(60):\n",
    "    if i < 10:\n",
    "        ball_box[i] = \"White\"\n",
    "    elif (i > 9) and (i < 30):\n",
    "        ball_box[i] = \"Red\"\n",
    "    else:\n",
    "        ball_box[i] = \"Green\"\n",
    "\n",
    "print(ball_box)\n",
    "            \n",
    "# TODO\n",
    "# Tomar 5 bolas de la caja reemplazándolas 1.000 veces y calcular la probabilidad de tomar 3 blancas y 2 rojas o todas del mismo color.\n",
    "# Experimento: Tomar bola\n",
    "# Simulación: Repetir 1.000 veces el experimento\n",
    "# Espacio muestral: \"White\"{10}, \"Red\" {20}, \"Green\" {30}\n",
    "# Evento: {W,W,W,W,W} {R,R,R,R,R} {G,G,G,G,G} {W,W,W,R,R}\n",
    "\n",
    "sims = 1000\n",
    "casos_favorables1 = 0 # 3 blancas y 2 rojas\n",
    "casos_favorables2 = 0 # todas del mismo color\n",
    "\n",
    "for _ in range(sims):\n",
    "    bolas = []\n",
    "    for _ in range(5):\n",
    "        indice_bola = random.randint(0,59)\n",
    "        color = ball_box[indice_bola]\n",
    "        bolas.append(color)\n",
    "\n",
    "    #Condición 1\n",
    "    num_blancas = bolas.count(\"White\")\n",
    "    num_rojas = bolas.count(\"Red\")\n",
    "\n",
    "    if (num_blancas == 3) and (num_rojas == 2):\n",
    "        casos_favorables1 += 1\n",
    "\n",
    "\n",
    "    #Condición 2\n",
    "    if bolas[0] == bolas[1] == bolas[2] == bolas[3] == bolas[4]:\n",
    "        casos_favorables2 += 1\n",
    "\n",
    "\n",
    "prob1 = casos_favorables1/sims\n",
    "prob2 = casos_favorables2/sims\n",
    "\n",
    "print(prob1)\n",
    "print(prob2)"
   ]
  }
 ],
 "metadata": {
  "kernelspec": {
   "display_name": "Python 3",
   "language": "python",
   "name": "python3"
  },
  "language_info": {
   "codemirror_mode": {
    "name": "ipython",
    "version": 3
   },
   "file_extension": ".py",
   "mimetype": "text/x-python",
   "name": "python",
   "nbconvert_exporter": "python",
   "pygments_lexer": "ipython3",
   "version": "3.11.4"
  }
 },
 "nbformat": 4,
 "nbformat_minor": 5
}
